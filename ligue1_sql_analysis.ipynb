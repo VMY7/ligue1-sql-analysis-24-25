{
 "cells": [
  {
   "cell_type": "code",
   "id": "initial_id",
   "metadata": {
    "collapsed": true,
    "ExecuteTime": {
     "end_time": "2025-08-26T14:36:19.511776Z",
     "start_time": "2025-08-26T14:36:19.500856Z"
    }
   },
   "source": "import pandas as pd",
   "outputs": [],
   "execution_count": 2
  },
  {
   "metadata": {
    "ExecuteTime": {
     "end_time": "2025-08-26T14:36:20.926305Z",
     "start_time": "2025-08-26T14:36:20.906384Z"
    }
   },
   "cell_type": "code",
   "source": [
    "# Charger le CSV\n",
    "df = pd.read_csv(\"data/F1.csv\")"
   ],
   "id": "cb57cdf3f2e5f933",
   "outputs": [],
   "execution_count": 3
  },
  {
   "metadata": {
    "ExecuteTime": {
     "end_time": "2025-08-26T14:37:30.005418Z",
     "start_time": "2025-08-26T14:37:29.987716Z"
    }
   },
   "cell_type": "code",
   "source": "print(df.head(5))",
   "id": "f8e7aca07f57462a",
   "outputs": [
    {
     "name": "stdout",
     "output_type": "stream",
     "text": [
      "  Div        Date   Time  HomeTeam    AwayTeam  FTHG  FTAG FTR  HTHG  HTAG  \\\n",
      "0  F1  16/08/2024  19:45  Le Havre    Paris SG     1     4   A     0     1   \n",
      "1  F1  17/08/2024  16:00     Brest   Marseille     1     5   A     1     3   \n",
      "2  F1  17/08/2024  18:00     Reims       Lille     0     2   A     0     1   \n",
      "3  F1  17/08/2024  20:00    Monaco  St Etienne     1     0   H     1     0   \n",
      "4  F1  18/08/2024  14:00   Auxerre        Nice     2     1   H     1     1   \n",
      "\n",
      "   ... B365CAHH  B365CAHA  PCAHH  PCAHA  MaxCAHH  MaxCAHA  AvgCAHH  AvgCAHA  \\\n",
      "0  ...     1.93      2.00   1.95   1.97     1.95     2.02     1.89     1.95   \n",
      "1  ...     1.89      2.04   1.91   2.02     1.91     2.08     1.85     2.01   \n",
      "2  ...     2.10      1.70   2.14   1.81     2.14     1.85     2.07     1.80   \n",
      "3  ...     2.00      1.93   2.00   1.93     2.00     2.01     1.95     1.91   \n",
      "4  ...     1.82      2.11   1.82   2.13     1.83     2.17     1.77     2.10   \n",
      "\n",
      "   BFECAHH  BFECAHA  \n",
      "0     1.95     2.02  \n",
      "1     1.90     2.09  \n",
      "2     2.13     1.86  \n",
      "3     1.95     2.00  \n",
      "4     1.84     2.16  \n",
      "\n",
      "[5 rows x 119 columns]\n"
     ]
    }
   ],
   "execution_count": 5
  }
 ],
 "metadata": {
  "kernelspec": {
   "display_name": "Python 3",
   "language": "python",
   "name": "python3"
  },
  "language_info": {
   "codemirror_mode": {
    "name": "ipython",
    "version": 2
   },
   "file_extension": ".py",
   "mimetype": "text/x-python",
   "name": "python",
   "nbconvert_exporter": "python",
   "pygments_lexer": "ipython2",
   "version": "2.7.6"
  }
 },
 "nbformat": 4,
 "nbformat_minor": 5
}

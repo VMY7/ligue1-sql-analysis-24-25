{
 "cells": [
  {
   "cell_type": "code",
   "id": "initial_id",
   "metadata": {
    "collapsed": true,
    "ExecuteTime": {
     "end_time": "2025-08-27T16:27:54.163098Z",
     "start_time": "2025-08-27T16:27:54.158706Z"
    }
   },
   "source": [
    "import pandas as pd\n",
    "import sqlite3"
   ],
   "outputs": [],
   "execution_count": 61
  },
  {
   "metadata": {
    "ExecuteTime": {
     "end_time": "2025-08-27T16:28:35.400885Z",
     "start_time": "2025-08-27T16:28:35.366884Z"
    }
   },
   "cell_type": "code",
   "source": [
    "# Charger le CSV\n",
    "df = pd.read_csv(\"data/24-25.csv\")\n",
    "\n",
    "# Créer une base SQLite (ici en mémoire)\n",
    "conn = sqlite3.connect(\":memory:\")\n",
    "\n",
    "# Importer le DataFrame dans SQLite comme une table appelée \"L1\"\n",
    "df.to_sql(\"L1\", conn, index=False, if_exists=\"replace\")"
   ],
   "id": "cb57cdf3f2e5f933",
   "outputs": [
    {
     "data": {
      "text/plain": [
       "306"
      ]
     },
     "execution_count": 65,
     "metadata": {},
     "output_type": "execute_result"
    }
   ],
   "execution_count": 65
  },
  {
   "metadata": {
    "ExecuteTime": {
     "end_time": "2025-08-27T16:28:37.127814Z",
     "start_time": "2025-08-27T16:28:37.098105Z"
    }
   },
   "cell_type": "code",
   "source": [
    "query = \"\"\"\n",
    "SELECT * FROM L1\n",
    "\"\"\"\n",
    "result = pd.read_sql(query, conn)\n",
    "print(result)"
   ],
   "id": "f8e7aca07f57462a",
   "outputs": [
    {
     "name": "stdout",
     "output_type": "stream",
     "text": [
      "    Div        Date   Time    HomeTeam     AwayTeam  FTHG  FTAG FTR  HTHG  \\\n",
      "0    F1  16/08/2024  19:45    Le Havre     Paris SG     1     4   A     0   \n",
      "1    F1  17/08/2024  16:00       Brest    Marseille     1     5   A     1   \n",
      "2    F1  17/08/2024  18:00       Reims        Lille     0     2   A     0   \n",
      "3    F1  17/08/2024  20:00      Monaco   St Etienne     1     0   H     1   \n",
      "4    F1  18/08/2024  14:00     Auxerre         Nice     2     1   H     1   \n",
      "..   ..         ...    ...         ...          ...   ...   ...  ..   ...   \n",
      "301  F1  17/05/2025  20:00      Nantes  Montpellier     3     0   H     2   \n",
      "302  F1  17/05/2025  20:00        Nice        Brest     6     0   H     3   \n",
      "303  F1  17/05/2025  20:00    Paris SG      Auxerre     3     1   H     0   \n",
      "304  F1  17/05/2025  20:00  St Etienne     Toulouse     2     3   A     1   \n",
      "305  F1  17/05/2025  20:00  Strasbourg     Le Havre     2     3   A     1   \n",
      "\n",
      "     HTAG  ... B365CAHH  B365CAHA  PCAHH  PCAHA  MaxCAHH  MaxCAHA  AvgCAHH  \\\n",
      "0       1  ...     1.93      2.00   1.95   1.97     1.95     2.02     1.89   \n",
      "1       3  ...     1.89      2.04   1.91   2.02     1.91     2.08     1.85   \n",
      "2       1  ...     2.10      1.70   2.14   1.81     2.14     1.85     2.07   \n",
      "3       0  ...     2.00      1.93   2.00   1.93     2.00     2.01     1.95   \n",
      "4       1  ...     1.82      2.11   1.82   2.13     1.83     2.17     1.77   \n",
      "..    ...  ...      ...       ...    ...    ...      ...      ...      ...   \n",
      "301     0  ...     1.90      1.95   1.96   1.96     1.96     2.01     1.92   \n",
      "302     0  ...     1.80      2.05   1.80   2.11     1.83     2.11     1.80   \n",
      "303     1  ...     1.83      2.03   2.00   1.91     2.00     2.03     1.90   \n",
      "304     2  ...     2.05      1.80   2.14   1.78     2.14     1.87     2.03   \n",
      "305     1  ...     1.83      2.03   1.84   2.10     1.90     2.11     1.82   \n",
      "\n",
      "     AvgCAHA  BFECAHH  BFECAHA  \n",
      "0       1.95     1.95     2.02  \n",
      "1       2.01     1.90     2.09  \n",
      "2       1.80     2.13     1.86  \n",
      "3       1.91     1.95     2.00  \n",
      "4       2.10     1.84     2.16  \n",
      "..       ...      ...      ...  \n",
      "301     1.93     1.98     1.97  \n",
      "302     2.05     1.82     2.18  \n",
      "303     1.94     2.00     1.98  \n",
      "304     1.81     2.12     1.87  \n",
      "305     2.03     1.82     2.18  \n",
      "\n",
      "[306 rows x 119 columns]\n"
     ]
    }
   ],
   "execution_count": 66
  },
  {
   "metadata": {},
   "cell_type": "markdown",
   "source": "# 1. Analyses sportives \"classiques\"",
   "id": "d21fc451deeea8a5"
  },
  {
   "metadata": {},
   "cell_type": "markdown",
   "source": "## Classement des équipes",
   "id": "9f864c3118979c9e"
  },
  {
   "metadata": {},
   "cell_type": "markdown",
   "source": "- total de points (3 victoire, 1 nul, 0 défaite), différence de buts (FTHG - FTAG), trié comme un vrai classement de Ligue 1",
   "id": "acebda19c14d55c4"
  },
  {
   "metadata": {
    "ExecuteTime": {
     "end_time": "2025-08-27T16:40:03.280256Z",
     "start_time": "2025-08-27T16:40:03.270032Z"
    }
   },
   "cell_type": "code",
   "source": [
    "query = \"\"\"\n",
    "SELECT Team, SUM(BP) AS BP, SUM(BC) AS BC, SUM(BP) - SUM(BC) AS DB, SUM(Points) AS Points\n",
    "FROM (\n",
    "        -- Equipe Domicile\n",
    "        SELECT HomeTeam AS Team, FTHG AS BP, FTAG AS BC,\n",
    "        CASE\n",
    "            WHEN FTR = 'H' THEN 3\n",
    "            WHEN FTR = 'A' THEN 0\n",
    "            WHEN FTR = 'D' THEN 1\n",
    "        END AS Points\n",
    "        FROM L1\n",
    "\n",
    "        UNION ALL\n",
    "\n",
    "        -- Equipe Extérieur\n",
    "        SELECT AwayTeam AS Team, FTAG AS BP, FTHG AS BC,\n",
    "        CASE\n",
    "            WHEN FTR = 'H' THEN 0\n",
    "            WHEN FTR = 'A' THEN 3\n",
    "            WHEN FTR = 'D' THEN 1\n",
    "        END AS Points\n",
    "        FROM L1\n",
    "\n",
    ") AS Matchs\n",
    "GROUP BY Team\n",
    "ORDER BY Points DESC, DB DESC\n",
    "\"\"\"\n",
    "\n",
    "result = pd.read_sql(query, conn)\n",
    "print(result)"
   ],
   "id": "753d7fed1cef91d3",
   "outputs": [
    {
     "name": "stdout",
     "output_type": "stream",
     "text": [
      "           Team  BP  BC  DB  Points\n",
      "0      Paris SG  92  35  57      84\n",
      "1     Marseille  74  47  27      65\n",
      "2        Monaco  63  41  22      61\n",
      "3          Nice  66  41  25      60\n",
      "4         Lille  52  36  16      60\n",
      "5          Lyon  65  46  19      57\n",
      "6    Strasbourg  56  44  12      57\n",
      "7          Lens  42  39   3      52\n",
      "8         Brest  52  59  -7      50\n",
      "9      Toulouse  44  43   1      42\n",
      "10      Auxerre  48  51  -3      42\n",
      "11       Rennes  51  50   1      41\n",
      "12       Nantes  39  52 -13      36\n",
      "13       Angers  32  53 -21      36\n",
      "14     Le Havre  40  71 -31      34\n",
      "15        Reims  33  47 -14      33\n",
      "16   St Etienne  39  77 -38      30\n",
      "17  Montpellier  23  79 -56      16\n"
     ]
    }
   ],
   "execution_count": 71
  },
  {
   "metadata": {},
   "cell_type": "markdown",
   "source": "## Performances domicile / extérieur",
   "id": "b0765d3bbbbf861"
  },
  {
   "metadata": {},
   "cell_type": "markdown",
   "source": "- comparer points, buts marqués et encaissés à domicile vs à l’extérieur",
   "id": "289689f331bef763"
  },
  {
   "metadata": {
    "ExecuteTime": {
     "end_time": "2025-08-27T17:38:22.254317Z",
     "start_time": "2025-08-27T17:38:22.243948Z"
    }
   },
   "cell_type": "code",
   "source": [
    "query = \"\"\"\n",
    "SELECT H.Team, H.BPHome, H.BCHome, H.DBHome, H.HomePoints,\n",
    "        A.BPAway, A.BCAway, A.DBAway, A.AwayPoints\n",
    "FROM (\n",
    "        SELECT HomeTeam AS Team, SUM(FTHG) AS BPHome, SUM(FTAG) AS BCHome, SUM(FTHG) - SUM(FTAG) AS DBHome,\n",
    "        SUM(CASE\n",
    "            WHEN FTR = 'H' THEN 3\n",
    "            WHEN FTR = 'A' THEN 0\n",
    "            WHEN FTR = 'D' THEN 1\n",
    "        END) AS HomePoints\n",
    "        FROM L1\n",
    "        GROUP BY Team\n",
    "        ORDER BY HomePoints DESC\n",
    ") AS H\n",
    "JOIN (\n",
    "        SELECT AwayTeam AS Team, SUM(FTAG) AS BPAway, SUM(FTHG) AS BCAway, SUM(FTAG) - SUM(FTHG) AS DBAway,\n",
    "        SUM(CASE\n",
    "            WHEN FTR = 'H' THEN 0\n",
    "            WHEN FTR = 'A' THEN 3\n",
    "            WHEN FTR = 'D' THEN 1\n",
    "        END) AS AwayPoints\n",
    "        FROM L1\n",
    "        GROUP BY Team\n",
    "        ORDER BY AwayPoints DESC\n",
    ") AS A\n",
    "ON H.Team = A.Team\n",
    "ORDER BY (H.HomePoints + A.AwayPoints) DESC\n",
    "\"\"\"\n",
    "result = pd.read_sql(query, conn)\n",
    "print(result)"
   ],
   "id": "43db58ad77077deb",
   "outputs": [
    {
     "name": "stdout",
     "output_type": "stream",
     "text": [
      "           Team  BPHome  BCHome  DBHome  HomePoints  BPAway  BCAway  DBAway  \\\n",
      "0      Paris SG      45      16      29          44      47      19      28   \n",
      "1     Marseille      41      23      18          34      33      24       9   \n",
      "2        Monaco      38      16      22          39      25      25       0   \n",
      "3          Nice      38      15      23          37      28      26       2   \n",
      "4         Lille      31      18      13          37      21      18       3   \n",
      "5    Strasbourg      33      20      13          35      23      24      -1   \n",
      "6          Lyon      37      21      16          35      28      25       3   \n",
      "7          Lens      19      22      -3          23      23      17       6   \n",
      "8         Brest      31      21      10          33      21      38     -17   \n",
      "9       Auxerre      24      17       7          27      24      34     -10   \n",
      "10     Toulouse      20      22      -2          20      24      21       3   \n",
      "11       Rennes      25      17       8          28      26      33      -7   \n",
      "12       Nantes      19      18       1          21      20      34     -14   \n",
      "13       Angers      18      33     -15          17      14      20      -6   \n",
      "14     Le Havre      15      41     -26          11      25      30      -5   \n",
      "15        Reims      17      25      -8          16      16      22      -6   \n",
      "16   St Etienne      24      33      -9          21      15      44     -29   \n",
      "17  Montpellier      17      41     -24          13       6      38     -32   \n",
      "\n",
      "    AwayPoints  \n",
      "0           40  \n",
      "1           31  \n",
      "2           22  \n",
      "3           23  \n",
      "4           23  \n",
      "5           22  \n",
      "6           22  \n",
      "7           29  \n",
      "8           17  \n",
      "9           15  \n",
      "10          22  \n",
      "11          13  \n",
      "12          15  \n",
      "13          19  \n",
      "14          23  \n",
      "15          17  \n",
      "16           9  \n",
      "17           3  \n"
     ]
    }
   ],
   "execution_count": 102
  },
  {
   "metadata": {},
   "cell_type": "markdown",
   "source": "## Buts par période",
   "id": "f47697e4fa240da8"
  },
  {
   "metadata": {},
   "cell_type": "markdown",
   "source": "- comparer HTHG / HTAG (mi-temps) vs FTHG / FTAG (fin de match) → voir quelles équipes marquent plutôt en 2ème mi-temps",
   "id": "828b17db8c439d15"
  },
  {
   "metadata": {},
   "cell_type": "code",
   "outputs": [],
   "execution_count": null,
   "source": "",
   "id": "f49f03c468845e"
  },
  {
   "metadata": {},
   "cell_type": "markdown",
   "source": "## Attaque et défense",
   "id": "e8ab0278d04055f8"
  },
  {
   "metadata": {},
   "cell_type": "markdown",
   "source": "- équipe qui tire le plus (HS + AS), équipe qui cadre le plus (HST + AST), équipe qui encaisse le plus de cartons (HY, AY, HR, AR)",
   "id": "1a83b6245abfa4d"
  },
  {
   "metadata": {},
   "cell_type": "code",
   "outputs": [],
   "execution_count": null,
   "source": "",
   "id": "aec2642e1855b61e"
  },
  {
   "metadata": {},
   "cell_type": "markdown",
   "source": "# 2. Analyses \"data métier\"",
   "id": "9aa66c58edcfcf3b"
  },
  {
   "metadata": {},
   "cell_type": "markdown",
   "source": "## Corrélation tirs / buts",
   "id": "3ca1d756ecac8c15"
  },
  {
   "metadata": {},
   "cell_type": "markdown",
   "source": "- moyenne de tirs cadrés vs buts marqués, pour identifier les équipes les plus efficaces",
   "id": "af233833a7326bbb"
  },
  {
   "metadata": {},
   "cell_type": "code",
   "outputs": [],
   "execution_count": null,
   "source": "",
   "id": "c98ee12c89e2548e"
  },
  {
   "metadata": {},
   "cell_type": "markdown",
   "source": "## Fair-play / agressivité",
   "id": "942346406e94cf3c"
  },
  {
   "metadata": {},
   "cell_type": "markdown",
   "source": "- ratio fautes (HF, AF) et cartons (HY, AY) par match → voir si une équipe est plus \"rugueuse\"",
   "id": "ccc1b7339113e590"
  },
  {
   "metadata": {},
   "cell_type": "code",
   "outputs": [],
   "execution_count": null,
   "source": "",
   "id": "6d3961c536c356f"
  },
  {
   "metadata": {},
   "cell_type": "markdown",
   "source": "## Possibilité d’upsets (surprises)",
   "id": "e6301fbf99cdba47"
  },
  {
   "metadata": {},
   "cell_type": "markdown",
   "source": "- comparer la cote du favori (B365H, B365A) avec le résultat effectif (FTR)",
   "id": "a69f6dbf1dc7a0d7"
  },
  {
   "metadata": {},
   "cell_type": "code",
   "outputs": [],
   "execution_count": null,
   "source": "",
   "id": "3a4352c2e91d94dd"
  },
  {
   "metadata": {},
   "cell_type": "markdown",
   "source": "## Analyse de la variance des cotes",
   "id": "235c40afa3d24aef"
  },
  {
   "metadata": {},
   "cell_type": "markdown",
   "source": "- comparer MaxH / MinH pour voir les matchs où les bookmakers n’étaient pas d’accord",
   "id": "782006d04c299640"
  },
  {
   "metadata": {},
   "cell_type": "code",
   "outputs": [],
   "execution_count": null,
   "source": "",
   "id": "7777fe9056386f8"
  },
  {
   "metadata": {},
   "cell_type": "markdown",
   "source": "# 3. Analyses \"pari sportif\"",
   "id": "52bee7b1f2aa836f"
  },
  {
   "metadata": {},
   "cell_type": "markdown",
   "source": "## Taux de victoire attendu vs réel",
   "id": "e16fad8e147f4524"
  },
  {
   "metadata": {},
   "cell_type": "markdown",
   "source": "- transformer une cote (1 / cote) en probabilité implicite, comparer avec la fréquence réelle des victoires/nuls",
   "id": "d5df3a07726debb"
  },
  {
   "metadata": {},
   "cell_type": "code",
   "outputs": [],
   "execution_count": null,
   "source": "",
   "id": "7623bfd513914210"
  },
  {
   "metadata": {},
   "cell_type": "markdown",
   "source": "## Valeur des paris \"over/under 2.5 buts\"",
   "id": "2d0892322e904366"
  },
  {
   "metadata": {},
   "cell_type": "markdown",
   "source": "- comparer la prédiction des bookmakers avec le nombre réel de matchs > 2.5 buts",
   "id": "141312ff4e33e972"
  },
  {
   "metadata": {},
   "cell_type": "code",
   "outputs": [],
   "execution_count": null,
   "source": "",
   "id": "3efa2cdfbca7d87e"
  },
  {
   "metadata": {},
   "cell_type": "markdown",
   "source": "## Analyse des handicaps asiatiques",
   "id": "9650758c40a6eaa6"
  },
  {
   "metadata": {},
   "cell_type": "markdown",
   "source": "- voir si les résultats réels sont cohérents avec les handicaps",
   "id": "24db06452b57953e"
  },
  {
   "metadata": {},
   "cell_type": "code",
   "outputs": [],
   "execution_count": null,
   "source": "",
   "id": "94b85fa7176cfe1"
  },
  {
   "metadata": {},
   "cell_type": "markdown",
   "source": "## Simulation de stratégie",
   "id": "41d490d167401a0c"
  },
  {
   "metadata": {},
   "cell_type": "markdown",
   "source": "- appliquer une stratégie simple (ex. toujours parier sur le favori à domicile avec cote < 1.5) et calculer le ROI",
   "id": "1a8822017e41497a"
  },
  {
   "metadata": {},
   "cell_type": "code",
   "outputs": [],
   "execution_count": null,
   "source": "",
   "id": "55046ba4050cfad8"
  }
 ],
 "metadata": {
  "kernelspec": {
   "display_name": "Python 3",
   "language": "python",
   "name": "python3"
  },
  "language_info": {
   "codemirror_mode": {
    "name": "ipython",
    "version": 2
   },
   "file_extension": ".py",
   "mimetype": "text/x-python",
   "name": "python",
   "nbconvert_exporter": "python",
   "pygments_lexer": "ipython2",
   "version": "2.7.6"
  }
 },
 "nbformat": 4,
 "nbformat_minor": 5
}

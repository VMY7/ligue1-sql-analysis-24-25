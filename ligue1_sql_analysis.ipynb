{
 "cells": [
  {
   "cell_type": "code",
   "id": "initial_id",
   "metadata": {
    "collapsed": true,
    "ExecuteTime": {
     "end_time": "2025-08-29T14:13:39.829469Z",
     "start_time": "2025-08-29T14:13:36.205232Z"
    }
   },
   "source": [
    "import pandas as pd\n",
    "import sqlite3"
   ],
   "outputs": [],
   "execution_count": 1
  },
  {
   "metadata": {
    "ExecuteTime": {
     "end_time": "2025-08-29T14:13:44.370316Z",
     "start_time": "2025-08-29T14:13:44.260057Z"
    }
   },
   "cell_type": "code",
   "source": [
    "# Charger le CSV\n",
    "df = pd.read_csv(\"data/24-25.csv\")\n",
    "\n",
    "# Créer une base SQLite (ici en mémoire)\n",
    "conn = sqlite3.connect(\":memory:\")\n",
    "\n",
    "# Importer le DataFrame dans SQLite comme une table appelée \"L1\"\n",
    "df.to_sql(\"L1\", conn, index=False, if_exists=\"replace\")"
   ],
   "id": "cb57cdf3f2e5f933",
   "outputs": [
    {
     "data": {
      "text/plain": [
       "306"
      ]
     },
     "execution_count": 2,
     "metadata": {},
     "output_type": "execute_result"
    }
   ],
   "execution_count": 2
  },
  {
   "metadata": {
    "ExecuteTime": {
     "end_time": "2025-08-29T14:13:45.856173Z",
     "start_time": "2025-08-29T14:13:45.850142Z"
    }
   },
   "cell_type": "code",
   "source": "print(df.columns.tolist())",
   "id": "f8e7aca07f57462a",
   "outputs": [
    {
     "name": "stdout",
     "output_type": "stream",
     "text": [
      "['Div', 'Date', 'Time', 'HomeTeam', 'AwayTeam', 'FTHG', 'FTAG', 'FTR', 'HTHG', 'HTAG', 'HTR', 'HS', 'AS', 'HST', 'AST', 'HF', 'AF', 'HC', 'AC', 'HY', 'AY', 'HR', 'AR', 'B365H', 'B365D', 'B365A', 'BWH', 'BWD', 'BWA', 'BFH', 'BFD', 'BFA', 'PSH', 'PSD', 'PSA', 'WHH', 'WHD', 'WHA', '1XBH', '1XBD', '1XBA', 'MaxH', 'MaxD', 'MaxA', 'AvgH', 'AvgD', 'AvgA', 'BFEH', 'BFED', 'BFEA', 'B365>2.5', 'B365<2.5', 'P>2.5', 'P<2.5', 'Max>2.5', 'Max<2.5', 'Avg>2.5', 'Avg<2.5', 'BFE>2.5', 'BFE<2.5', 'AHh', 'B365AHH', 'B365AHA', 'PAHH', 'PAHA', 'MaxAHH', 'MaxAHA', 'AvgAHH', 'AvgAHA', 'BFEAHH', 'BFEAHA', 'B365CH', 'B365CD', 'B365CA', 'BWCH', 'BWCD', 'BWCA', 'BFCH', 'BFCD', 'BFCA', 'PSCH', 'PSCD', 'PSCA', 'WHCH', 'WHCD', 'WHCA', '1XBCH', '1XBCD', '1XBCA', 'MaxCH', 'MaxCD', 'MaxCA', 'AvgCH', 'AvgCD', 'AvgCA', 'BFECH', 'BFECD', 'BFECA', 'B365C>2.5', 'B365C<2.5', 'PC>2.5', 'PC<2.5', 'MaxC>2.5', 'MaxC<2.5', 'AvgC>2.5', 'AvgC<2.5', 'BFEC>2.5', 'BFEC<2.5', 'AHCh', 'B365CAHH', 'B365CAHA', 'PCAHH', 'PCAHA', 'MaxCAHH', 'MaxCAHA', 'AvgCAHH', 'AvgCAHA', 'BFECAHH', 'BFECAHA']\n"
     ]
    }
   ],
   "execution_count": 3
  },
  {
   "metadata": {},
   "cell_type": "markdown",
   "source": "# 1. Analyses sportives \"classiques\"",
   "id": "d21fc451deeea8a5"
  },
  {
   "metadata": {},
   "cell_type": "markdown",
   "source": "## Classement des équipes",
   "id": "9f864c3118979c9e"
  },
  {
   "metadata": {},
   "cell_type": "markdown",
   "source": "- total de points (3 victoire, 1 nul, 0 défaite), différence de buts (FTHG - FTAG), trié comme un vrai classement de Ligue 1",
   "id": "acebda19c14d55c4"
  },
  {
   "metadata": {
    "ExecuteTime": {
     "end_time": "2025-08-28T14:36:03.301747Z",
     "start_time": "2025-08-28T14:36:03.288458Z"
    }
   },
   "cell_type": "code",
   "source": [
    "query = \"\"\"\n",
    "SELECT Team, SUM(BP) AS BP, SUM(BC) AS BC, SUM(BP) - SUM(BC) AS DB, SUM(Points) AS Points\n",
    "FROM (\n",
    "        -- Equipe Domicile\n",
    "        SELECT HomeTeam AS Team, FTHG AS BP, FTAG AS BC,\n",
    "        CASE\n",
    "            WHEN FTR = 'H' THEN 3\n",
    "            WHEN FTR = 'A' THEN 0\n",
    "            WHEN FTR = 'D' THEN 1\n",
    "        END AS Points\n",
    "        FROM L1\n",
    "\n",
    "        UNION ALL\n",
    "\n",
    "        -- Equipe Extérieur\n",
    "        SELECT AwayTeam AS Team, FTAG AS BP, FTHG AS BC,\n",
    "        CASE\n",
    "            WHEN FTR = 'H' THEN 0\n",
    "            WHEN FTR = 'A' THEN 3\n",
    "            WHEN FTR = 'D' THEN 1\n",
    "        END AS Points\n",
    "        FROM L1\n",
    "\n",
    ") AS Matchs\n",
    "GROUP BY Team\n",
    "ORDER BY Points DESC, DB DESC\n",
    "\"\"\"\n",
    "result = pd.read_sql(query, conn)\n",
    "print(result)"
   ],
   "id": "753d7fed1cef91d3",
   "outputs": [
    {
     "name": "stdout",
     "output_type": "stream",
     "text": [
      "           Team  BP  BC  DB  Points\n",
      "0      Paris SG  92  35  57      84\n",
      "1     Marseille  74  47  27      65\n",
      "2        Monaco  63  41  22      61\n",
      "3          Nice  66  41  25      60\n",
      "4         Lille  52  36  16      60\n",
      "5          Lyon  65  46  19      57\n",
      "6    Strasbourg  56  44  12      57\n",
      "7          Lens  42  39   3      52\n",
      "8         Brest  52  59  -7      50\n",
      "9      Toulouse  44  43   1      42\n",
      "10      Auxerre  48  51  -3      42\n",
      "11       Rennes  51  50   1      41\n",
      "12       Nantes  39  52 -13      36\n",
      "13       Angers  32  53 -21      36\n",
      "14     Le Havre  40  71 -31      34\n",
      "15        Reims  33  47 -14      33\n",
      "16   St Etienne  39  77 -38      30\n",
      "17  Montpellier  23  79 -56      16\n"
     ]
    }
   ],
   "execution_count": 4
  },
  {
   "metadata": {},
   "cell_type": "markdown",
   "source": "## Performances domicile / extérieur",
   "id": "b0765d3bbbbf861"
  },
  {
   "metadata": {},
   "cell_type": "markdown",
   "source": "- comparer points, buts marqués et encaissés à domicile vs à l’extérieur",
   "id": "289689f331bef763"
  },
  {
   "metadata": {
    "ExecuteTime": {
     "end_time": "2025-08-28T14:36:20.535506Z",
     "start_time": "2025-08-28T14:36:20.524466Z"
    }
   },
   "cell_type": "code",
   "source": [
    "query = \"\"\"\n",
    "SELECT H.Team, H.BPHome, H.BCHome, H.DBHome, H.HomePoints,\n",
    "        A.BPAway, A.BCAway, A.DBAway, A.AwayPoints\n",
    "FROM (\n",
    "        SELECT HomeTeam AS Team, SUM(FTHG) AS BPHome, SUM(FTAG) AS BCHome, SUM(FTHG) - SUM(FTAG) AS DBHome,\n",
    "        SUM(CASE\n",
    "            WHEN FTR = 'H' THEN 3\n",
    "            WHEN FTR = 'A' THEN 0\n",
    "            WHEN FTR = 'D' THEN 1\n",
    "        END) AS HomePoints\n",
    "        FROM L1\n",
    "        GROUP BY Team\n",
    "        ORDER BY HomePoints DESC\n",
    ") AS H\n",
    "JOIN (\n",
    "        SELECT AwayTeam AS Team, SUM(FTAG) AS BPAway, SUM(FTHG) AS BCAway, SUM(FTAG) - SUM(FTHG) AS DBAway,\n",
    "        SUM(CASE\n",
    "            WHEN FTR = 'H' THEN 0\n",
    "            WHEN FTR = 'A' THEN 3\n",
    "            WHEN FTR = 'D' THEN 1\n",
    "        END) AS AwayPoints\n",
    "        FROM L1\n",
    "        GROUP BY Team\n",
    "        ORDER BY AwayPoints DESC\n",
    ") AS A\n",
    "ON H.Team = A.Team\n",
    "ORDER BY (H.HomePoints + A.AwayPoints) DESC\n",
    "\"\"\"\n",
    "result = pd.read_sql(query, conn)\n",
    "print(result)"
   ],
   "id": "43db58ad77077deb",
   "outputs": [
    {
     "name": "stdout",
     "output_type": "stream",
     "text": [
      "           Team  BPHome  BCHome  DBHome  HomePoints  BPAway  BCAway  DBAway  \\\n",
      "0      Paris SG      45      16      29          44      47      19      28   \n",
      "1     Marseille      41      23      18          34      33      24       9   \n",
      "2        Monaco      38      16      22          39      25      25       0   \n",
      "3          Nice      38      15      23          37      28      26       2   \n",
      "4         Lille      31      18      13          37      21      18       3   \n",
      "5    Strasbourg      33      20      13          35      23      24      -1   \n",
      "6          Lyon      37      21      16          35      28      25       3   \n",
      "7          Lens      19      22      -3          23      23      17       6   \n",
      "8         Brest      31      21      10          33      21      38     -17   \n",
      "9       Auxerre      24      17       7          27      24      34     -10   \n",
      "10     Toulouse      20      22      -2          20      24      21       3   \n",
      "11       Rennes      25      17       8          28      26      33      -7   \n",
      "12       Nantes      19      18       1          21      20      34     -14   \n",
      "13       Angers      18      33     -15          17      14      20      -6   \n",
      "14     Le Havre      15      41     -26          11      25      30      -5   \n",
      "15        Reims      17      25      -8          16      16      22      -6   \n",
      "16   St Etienne      24      33      -9          21      15      44     -29   \n",
      "17  Montpellier      17      41     -24          13       6      38     -32   \n",
      "\n",
      "    AwayPoints  \n",
      "0           40  \n",
      "1           31  \n",
      "2           22  \n",
      "3           23  \n",
      "4           23  \n",
      "5           22  \n",
      "6           22  \n",
      "7           29  \n",
      "8           17  \n",
      "9           15  \n",
      "10          22  \n",
      "11          13  \n",
      "12          15  \n",
      "13          19  \n",
      "14          23  \n",
      "15          17  \n",
      "16           9  \n",
      "17           3  \n"
     ]
    }
   ],
   "execution_count": 6
  },
  {
   "metadata": {},
   "cell_type": "markdown",
   "source": "## Buts par période",
   "id": "f47697e4fa240da8"
  },
  {
   "metadata": {},
   "cell_type": "markdown",
   "source": "- comparer HTHG / HTAG (mi-temps) vs FTHG / FTAG (fin de match) → voir quelles équipes marquent plutôt en 2ème mi-temps",
   "id": "828b17db8c439d15"
  },
  {
   "metadata": {
    "ExecuteTime": {
     "end_time": "2025-08-28T14:56:37.731242Z",
     "start_time": "2025-08-28T14:56:37.721881Z"
    }
   },
   "cell_type": "code",
   "source": [
    "query = \"\"\"\n",
    "SELECT Team, SUM(FirstHalf) AS FirstHalf, SUM(SecondHalf) AS SecondHalf, Count(*) AS Matchs\n",
    "FROM (\n",
    "        SELECT HomeTeam AS Team, HTHG AS FirstHalf, (FTHG - HTHG) AS SecondHalf\n",
    "        FROM L1\n",
    "\n",
    "        UNION ALL\n",
    "\n",
    "        SELECT AwayTeam AS Team, HTAG AS FirstHalf, (FTAG - HTAG) AS SecondHalf\n",
    "        FROM L1\n",
    ")\n",
    "GROUP BY Team\n",
    "Order BY SecondHalf DESC\n",
    "\"\"\"\n",
    "result = pd.read_sql(query, conn)\n",
    "print(result)"
   ],
   "id": "f49f03c468845e",
   "outputs": [
    {
     "name": "stdout",
     "output_type": "stream",
     "text": [
      "           Team  FirstHalf  SecondHalf  Matchs\n",
      "0      Paris SG         37          55      34\n",
      "1     Marseille         26          48      34\n",
      "2          Lyon         22          43      34\n",
      "3        Monaco         23          40      34\n",
      "4    Strasbourg         23          33      34\n",
      "5        Rennes         23          28      34\n",
      "6          Nice         38          28      34\n",
      "7      Toulouse         17          27      34\n",
      "8         Lille         25          27      34\n",
      "9         Brest         29          23      34\n",
      "10      Auxerre         25          23      34\n",
      "11   St Etienne         17          22      34\n",
      "12         Lens         20          22      34\n",
      "13     Le Havre         18          22      34\n",
      "14       Nantes         19          20      34\n",
      "15       Angers         14          18      34\n",
      "16        Reims         17          16      34\n",
      "17  Montpellier          8          15      34\n"
     ]
    }
   ],
   "execution_count": 19
  },
  {
   "metadata": {},
   "cell_type": "markdown",
   "source": "## Attaque et défense",
   "id": "e8ab0278d04055f8"
  },
  {
   "metadata": {},
   "cell_type": "markdown",
   "source": "- équipe qui tire le plus (HS + AS), équipe qui cadre le plus (HST + AST), équipe qui encaisse le plus de cartons (HY, AY, HR, AR)",
   "id": "1a83b6245abfa4d"
  },
  {
   "metadata": {
    "ExecuteTime": {
     "end_time": "2025-08-28T15:49:00.518298Z",
     "start_time": "2025-08-28T15:49:00.501707Z"
    }
   },
   "cell_type": "code",
   "source": [
    "query = \"\"\"\n",
    "SELECT Team, SUM(TotalShots) AS TotalShots, SUM(ShotsOnTarget) AS ShotsOnTarget, SUM(YellowCards) AS YellowCards, SUM(RedCards) AS RedCards\n",
    "FROM (\n",
    "        SELECT HomeTeam AS Team,\n",
    "               HS AS TotalShots,\n",
    "               HST AS ShotsOnTarget,\n",
    "               HY AS YellowCards,\n",
    "               HR AS RedCards\n",
    "        FROM L1\n",
    "\n",
    "        UNION ALL\n",
    "\n",
    "        SELECT AwayTeam AS Team,\n",
    "               \"AS\" AS TotalShots,\n",
    "               AST AS ShotsOnTarget,\n",
    "               AY AS YellowCards,\n",
    "               AR AS RedCards\n",
    "        FROM L1\n",
    ") AS Stats\n",
    "GROUP BY Team\n",
    "ORDER BY SUM(ShotsOnTarget) DESC\n",
    "\"\"\"\n",
    "result = pd.read_sql(query, conn)\n",
    "print(result)"
   ],
   "id": "aec2642e1855b61e",
   "outputs": [
    {
     "name": "stdout",
     "output_type": "stream",
     "text": [
      "           Team  TotalShots  ShotsOnTarget  YellowCards  RedCards\n",
      "0      Paris SG         627            282           37         0\n",
      "1     Marseille         476            205           64         6\n",
      "2          Nice         489            195           59         5\n",
      "3        Monaco         491            189           57         4\n",
      "4          Lyon         443            187           56         0\n",
      "5         Lille         435            166           75         2\n",
      "6        Rennes         431            164           67         2\n",
      "7          Lens         492            162           86         8\n",
      "8         Brest         411            159           66         3\n",
      "9      Toulouse         399            156           54         3\n",
      "10      Auxerre         377            152           67         4\n",
      "11   Strasbourg         353            144           70         3\n",
      "12       Nantes         346            128           69         4\n",
      "13   St Etienne         362            121           65         3\n",
      "14  Montpellier         371            118           87         7\n",
      "15        Reims         396            113           63         5\n",
      "16     Le Havre         350            113           56         4\n",
      "17       Angers         307             96           49         2\n"
     ]
    }
   ],
   "execution_count": 45
  },
  {
   "metadata": {},
   "cell_type": "markdown",
   "source": "# 2. Analyses \"data métier\"",
   "id": "9aa66c58edcfcf3b"
  },
  {
   "metadata": {},
   "cell_type": "markdown",
   "source": "## Corrélation tirs / buts",
   "id": "3ca1d756ecac8c15"
  },
  {
   "metadata": {},
   "cell_type": "markdown",
   "source": "- moyenne de tirs cadrés vs buts marqués, pour identifier les équipes les plus efficaces",
   "id": "af233833a7326bbb"
  },
  {
   "metadata": {
    "ExecuteTime": {
     "end_time": "2025-08-28T16:45:01.546529Z",
     "start_time": "2025-08-28T16:45:01.535495Z"
    }
   },
   "cell_type": "code",
   "source": [
    "query = \"\"\"\n",
    "SELECT Team,\n",
    "       SUM(ShotsOnTarget) AS TotalShotsOnTarget,\n",
    "       SUM(ShotsOnTarget) / COUNT(*) AS AvgShotsOnTargetPerMatch,\n",
    "       SUM(Goals) AS TotalGoals,\n",
    "       SUM(Goals) / COUNT(*) AS AvgGoalsPerMatch,\n",
    "       SUM(Goals) * 1.0 / NULLIF(SUM(ShotsOnTarget), 0) AS Efficiency,\n",
    "       COUNT(*) AS Matchs\n",
    "FROM (\n",
    "        SELECT HomeTeam AS Team, FTHG AS Goals, HST AS ShotsOnTarget\n",
    "        FROM L1\n",
    "\n",
    "        UNION ALL\n",
    "\n",
    "        SELECT AwayTeam AS Team, FTAG AS Goals, AST AS ShotsOnTarget\n",
    "        FROM L1\n",
    ")\n",
    "GROUP BY Team\n",
    "ORDER BY Efficiency DESC\n",
    "\"\"\"\n",
    "result = pd.read_sql(query, conn)\n",
    "print(result)"
   ],
   "id": "a8e4cf07771fc463",
   "outputs": [
    {
     "name": "stdout",
     "output_type": "stream",
     "text": [
      "           Team  TotalShotsOnTarget  AvgShotsOnTargetPerMatch  TotalGoals  \\\n",
      "0    Strasbourg                 144                         4          56   \n",
      "1     Marseille                 205                         6          74   \n",
      "2      Le Havre                 113                         3          40   \n",
      "3          Lyon                 187                         5          65   \n",
      "4          Nice                 195                         5          66   \n",
      "5        Monaco                 189                         5          63   \n",
      "6        Angers                  96                         2          32   \n",
      "7         Brest                 159                         4          52   \n",
      "8      Paris SG                 282                         8          92   \n",
      "9    St Etienne                 121                         3          39   \n",
      "10      Auxerre                 152                         4          48   \n",
      "11        Lille                 166                         4          52   \n",
      "12       Rennes                 164                         4          51   \n",
      "13       Nantes                 128                         3          39   \n",
      "14        Reims                 113                         3          33   \n",
      "15     Toulouse                 156                         4          44   \n",
      "16         Lens                 162                         4          42   \n",
      "17  Montpellier                 118                         3          23   \n",
      "\n",
      "    AvgGoalsPerMatch  Efficiency  Matchs  \n",
      "0                  1    0.388889      34  \n",
      "1                  2    0.360976      34  \n",
      "2                  1    0.353982      34  \n",
      "3                  1    0.347594      34  \n",
      "4                  1    0.338462      34  \n",
      "5                  1    0.333333      34  \n",
      "6                  0    0.333333      34  \n",
      "7                  1    0.327044      34  \n",
      "8                  2    0.326241      34  \n",
      "9                  1    0.322314      34  \n",
      "10                 1    0.315789      34  \n",
      "11                 1    0.313253      34  \n",
      "12                 1    0.310976      34  \n",
      "13                 1    0.304688      34  \n",
      "14                 0    0.292035      34  \n",
      "15                 1    0.282051      34  \n",
      "16                 1    0.259259      34  \n",
      "17                 0    0.194915      34  \n"
     ]
    }
   ],
   "execution_count": 66
  },
  {
   "metadata": {},
   "cell_type": "markdown",
   "source": "## Fair-play / agressivité",
   "id": "942346406e94cf3c"
  },
  {
   "metadata": {},
   "cell_type": "markdown",
   "source": "- ratio fautes (HF, AF) et cartons (HY, AY) par match → voir si une équipe est plus \"rugueuse\"",
   "id": "ccc1b7339113e590"
  },
  {
   "metadata": {
    "ExecuteTime": {
     "end_time": "2025-08-28T17:38:04.153031Z",
     "start_time": "2025-08-28T17:38:04.141888Z"
    }
   },
   "cell_type": "code",
   "source": [
    "query = \"\"\"\n",
    "SELECT Team,\n",
    "       SUM(YellowCards) + SUM(RedCards) AS TotalCards,\n",
    "       SUM(YellowCards) AS TotalYellowCards,\n",
    "       SUM(RedCards) AS TotalRedCards,\n",
    "       (SUM(YellowCards) + SUM(RedCards)) / COUNT(*) AS CardsPerMatch,\n",
    "       SUM(Fouls) AS TotalFouls,\n",
    "       SUM(Fouls) /  COUNT(*) AS FoulsPerMatch,\n",
    "       (SUM(YellowCards) + SUM(RedCards)) * 1.0 / NULLIF(SUM(Fouls), 0) AS CardPerFoulRatio,\n",
    "       COUNT(*) AS Matchs\n",
    "FROM (\n",
    "        SELECT HomeTeam AS Team, HF AS Fouls, HY AS YellowCards, HR AS RedCards\n",
    "        FROM L1\n",
    "\n",
    "        UNION ALL\n",
    "\n",
    "        SELECT AwayTeam AS Team, AF AS Fouls, AY AS YellowCards, AR AS RedCards\n",
    "        FROM L1\n",
    ")\n",
    "GROUP BY Team\n",
    "ORDER BY FoulsPerMatch DESC, CardsPerMatch DESC\n",
    "\"\"\"\n",
    "result = pd.read_sql(query, conn)\n",
    "print(result)"
   ],
   "id": "6d3961c536c356f",
   "outputs": [
    {
     "name": "stdout",
     "output_type": "stream",
     "text": [
      "           Team  TotalCards  TotalYellowCards  TotalRedCards  CardsPerMatch  \\\n",
      "0          Lens          94                86              8              2   \n",
      "1        Rennes          69                67              2              2   \n",
      "2    St Etienne          68                65              3              2   \n",
      "3        Monaco          61                57              4              1   \n",
      "4         Brest          69                66              3              2   \n",
      "5   Montpellier          94                87              7              2   \n",
      "6      Toulouse          57                54              3              1   \n",
      "7       Auxerre          71                67              4              2   \n",
      "8         Lille          77                75              2              2   \n",
      "9     Marseille          70                64              6              2   \n",
      "10       Nantes          73                69              4              2   \n",
      "11        Reims          68                63              5              2   \n",
      "12   Strasbourg          73                70              3              2   \n",
      "13     Le Havre          60                56              4              1   \n",
      "14         Lyon          56                56              0              1   \n",
      "15         Nice          64                59              5              1   \n",
      "16       Angers          51                49              2              1   \n",
      "17     Paris SG          37                37              0              1   \n",
      "\n",
      "    TotalFouls  FoulsPerMatch  CardPerFoulRatio  Matchs  \n",
      "0          493             14          0.190669      34  \n",
      "1          443             13          0.155756      34  \n",
      "2          448             13          0.151786      34  \n",
      "3          460             13          0.132609      34  \n",
      "4          427             12          0.161593      34  \n",
      "5          427             12          0.220141      34  \n",
      "6          437             12          0.130435      34  \n",
      "7          402             11          0.176617      34  \n",
      "8          406             11          0.189655      34  \n",
      "9          387             11          0.180879      34  \n",
      "10         407             11          0.179361      34  \n",
      "11         391             11          0.173913      34  \n",
      "12         391             11          0.186701      34  \n",
      "13         376             11          0.159574      34  \n",
      "14         393             11          0.142494      34  \n",
      "15         390             11          0.164103      34  \n",
      "16         373             10          0.136729      34  \n",
      "17         298              8          0.124161      34  \n"
     ]
    }
   ],
   "execution_count": 80
  },
  {
   "metadata": {},
   "cell_type": "markdown",
   "source": "## Possibilité d’upsets (surprises)",
   "id": "e6301fbf99cdba47"
  },
  {
   "metadata": {},
   "cell_type": "markdown",
   "source": "- comparer la cote du favori (B365H, B365A) avec le résultat effectif (FTR)",
   "id": "a69f6dbf1dc7a0d7"
  },
  {
   "metadata": {
    "ExecuteTime": {
     "end_time": "2025-08-29T15:01:47.283725Z",
     "start_time": "2025-08-29T15:01:47.273238Z"
    }
   },
   "cell_type": "code",
   "source": [
    "query = \"\"\"\n",
    "SELECT HomeTeam, AwayTeam, Favori, FTR AS ResultatsMatchs,\n",
    "       CASE\n",
    "           WHEN Favori = 'Home' AND FTR = 'H' THEN 'Win'\n",
    "           WHEN Favori = 'Away' AND FTR = 'A' THEN 'Win'\n",
    "           ELSE 'Lose'\n",
    "       END AS ResultatsParis\n",
    "FROM (\n",
    "        SELECT HomeTeam, AwayTeam, FTR,\n",
    "               CASE\n",
    "                   WHEN B365H < B365A THEN 'Home'\n",
    "                   WHEN B365A < B365H THEN 'Away'\n",
    "                   ELSE 'Draw'\n",
    "               END AS Favori\n",
    "        FROM L1\n",
    ") AS T\n",
    "\"\"\"\n",
    "result = pd.read_sql(query, conn)\n",
    "print(result)"
   ],
   "id": "3a4352c2e91d94dd",
   "outputs": [
    {
     "name": "stdout",
     "output_type": "stream",
     "text": [
      "       HomeTeam     AwayTeam Favori ResultatsMatchs ResultatsParis\n",
      "0      Le Havre     Paris SG   Away               A            Win\n",
      "1         Brest    Marseille   Away               A            Win\n",
      "2         Reims        Lille   Away               A            Win\n",
      "3        Monaco   St Etienne   Home               H            Win\n",
      "4       Auxerre         Nice   Away               H           Lose\n",
      "..          ...          ...    ...             ...            ...\n",
      "301      Nantes  Montpellier   Home               H            Win\n",
      "302        Nice        Brest   Home               H            Win\n",
      "303    Paris SG      Auxerre   Home               H            Win\n",
      "304  St Etienne     Toulouse   Home               A           Lose\n",
      "305  Strasbourg     Le Havre   Home               A           Lose\n",
      "\n",
      "[306 rows x 5 columns]\n"
     ]
    }
   ],
   "execution_count": 27
  },
  {
   "metadata": {},
   "cell_type": "markdown",
   "source": "## Analyse de la variance des cotes",
   "id": "235c40afa3d24aef"
  },
  {
   "metadata": {},
   "cell_type": "markdown",
   "source": "- comparer MaxH / MinH pour voir les matchs où les bookmakers n’étaient pas d’accord",
   "id": "782006d04c299640"
  },
  {
   "metadata": {
    "ExecuteTime": {
     "end_time": "2025-08-29T16:05:36.262695Z",
     "start_time": "2025-08-29T16:05:36.238158Z"
    }
   },
   "cell_type": "code",
   "source": [
    "query = \"\"\"\n",
    "SELECT Date, HomeTeam, AwayTeam, FTR, MinH, MaxH, DiffH,\n",
    "CASE\n",
    "    WHEN DiffH > 0.5 THEN 'Yes'\n",
    "    ELSE 'No'\n",
    "END AS Disagreement\n",
    "FROM (\n",
    "        SELECT Date,\n",
    "               HomeTeam,\n",
    "               AwayTeam,\n",
    "               FTR,\n",
    "               MIN(B365H, BWH, BFH, PSH, WHH, \"1XBH\") AS MinH,\n",
    "               MaxH,\n",
    "               MaxH - MIN(B365H, BWH, BFH, PSH, WHH, \"1XBH\") AS DiffH\n",
    "        FROM L1\n",
    ") AS T\n",
    "\"\"\"\n",
    "# result = pd.read_sql(query, conn)\n",
    "# print(result)\n",
    "\n",
    "cols = ['B365H','BWH','BFH','PSH','WHH','1XBH']\n",
    "\n",
    "# Calculer MinH en gérant les valeurs NULLS\n",
    "df[\"MinH\"] = df[cols].min(axis=1, skipna=True)\n",
    "\n",
    "# Calculer DiffH\n",
    "df[\"DiffH\"] = df[\"MaxH\"] - df[\"MinH\"]\n",
    "\n",
    "# Définir le Disagreement\n",
    "df['Disagreement'] = df['DiffH'].apply(lambda x: 'Yes' if x > 0.5 else 'No')\n",
    "\n",
    "# Affichage\n",
    "df_result = df[['Date', 'HomeTeam', 'AwayTeam', 'FTR', 'MinH', 'MaxH', 'DiffH', 'Disagreement']]\n",
    "\n",
    "print(df_result)\n"
   ],
   "id": "7777fe9056386f8",
   "outputs": [
    {
     "name": "stdout",
     "output_type": "stream",
     "text": [
      "           Date    HomeTeam     AwayTeam FTR  MinH  MaxH  DiffH Disagreement\n",
      "0    16/08/2024    Le Havre     Paris SG   A  6.75  8.00   1.25          Yes\n",
      "1    17/08/2024       Brest    Marseille   A  2.80  3.00   0.20           No\n",
      "2    17/08/2024       Reims        Lille   A  3.30  3.60   0.30           No\n",
      "3    17/08/2024      Monaco   St Etienne   H  1.48  1.54   0.06           No\n",
      "4    18/08/2024     Auxerre         Nice   H  3.10  3.28   0.18           No\n",
      "..          ...         ...          ...  ..   ...   ...    ...          ...\n",
      "301  17/05/2025      Nantes  Montpellier   H  0.00  1.54   1.54          Yes\n",
      "302  17/05/2025        Nice        Brest   H  1.46  1.53   0.07           No\n",
      "303  17/05/2025    Paris SG      Auxerre   H  1.18  1.21   0.03           No\n",
      "304  17/05/2025  St Etienne     Toulouse   A  1.95  2.70   0.75          Yes\n",
      "305  17/05/2025  Strasbourg     Le Havre   A  1.57  1.60   0.03           No\n",
      "\n",
      "[306 rows x 8 columns]\n"
     ]
    }
   ],
   "execution_count": 76
  },
  {
   "metadata": {},
   "cell_type": "markdown",
   "source": "# 3. Analyses \"pari sportif\"",
   "id": "52bee7b1f2aa836f"
  },
  {
   "metadata": {},
   "cell_type": "markdown",
   "source": "## Taux de victoire attendu vs réel",
   "id": "e16fad8e147f4524"
  },
  {
   "metadata": {},
   "cell_type": "markdown",
   "source": "- transformer une cote (1 / cote) en probabilité implicite, comparer avec la fréquence réelle des victoires/nuls",
   "id": "d5df3a07726debb"
  },
  {
   "metadata": {
    "ExecuteTime": {
     "end_time": "2025-08-29T16:52:33.856358Z",
     "start_time": "2025-08-29T16:52:33.846851Z"
    }
   },
   "cell_type": "code",
   "source": [
    "query = \"\"\"\n",
    "WITH Frequencies AS (\n",
    "    SELECT\n",
    "        COUNT(CASE WHEN FTR='H' THEN 1 END) * 1.0 / COUNT(*) AS FreqH,\n",
    "        COUNT(CASE WHEN FTR='D' THEN 1 END) * 1.0 / COUNT(*) AS FreqD,\n",
    "        COUNT(CASE WHEN FTR='A' THEN 1 END) * 1.0 / COUNT(*) AS FreqA\n",
    "    FROM L1\n",
    ")\n",
    "SELECT FTR AS Resultat,\n",
    "       AVG(1.0 / B365H) AS ProbH,\n",
    "       AVG(1.0 / B365D) AS ProbD,\n",
    "       AVG(1.0 / B365A) AS ProbA,\n",
    "       f.FreqH,\n",
    "       f.FreqD,\n",
    "       f.FreqA\n",
    "FROM L1\n",
    "CROSS JOIN Frequencies f\n",
    "GROUP BY FTR\n",
    "ORDER BY Resultat\n",
    "\"\"\"\n",
    "result = pd.read_sql(query, conn)\n",
    "print(result)"
   ],
   "id": "7623bfd513914210",
   "outputs": [
    {
     "name": "stdout",
     "output_type": "stream",
     "text": [
      "  Resultat     ProbH     ProbD     ProbA    FreqH     FreqD     FreqA\n",
      "0        A  0.367512  0.266478  0.420658  0.46732  0.202614  0.330065\n",
      "1        D  0.440037  0.266147  0.348905  0.46732  0.202614  0.330065\n",
      "2        H  0.541087  0.248256  0.266130  0.46732  0.202614  0.330065\n"
     ]
    }
   ],
   "execution_count": 91
  },
  {
   "metadata": {},
   "cell_type": "markdown",
   "source": "## Valeur des paris \"over/under 2.5 buts\"",
   "id": "2d0892322e904366"
  },
  {
   "metadata": {},
   "cell_type": "markdown",
   "source": "- comparer la prédiction des bookmakers avec le nombre réel de matchs > 2.5 buts",
   "id": "141312ff4e33e972"
  },
  {
   "metadata": {},
   "cell_type": "code",
   "outputs": [],
   "execution_count": null,
   "source": "",
   "id": "3efa2cdfbca7d87e"
  },
  {
   "metadata": {},
   "cell_type": "markdown",
   "source": "## Analyse des handicaps asiatiques",
   "id": "9650758c40a6eaa6"
  },
  {
   "metadata": {},
   "cell_type": "markdown",
   "source": "- voir si les résultats réels sont cohérents avec les handicaps",
   "id": "24db06452b57953e"
  },
  {
   "metadata": {},
   "cell_type": "code",
   "outputs": [],
   "execution_count": null,
   "source": "",
   "id": "94b85fa7176cfe1"
  },
  {
   "metadata": {},
   "cell_type": "markdown",
   "source": "## Simulation de stratégie",
   "id": "41d490d167401a0c"
  },
  {
   "metadata": {},
   "cell_type": "markdown",
   "source": "- appliquer une stratégie simple (ex. toujours parier sur le favori à domicile avec cote < 1.5) et calculer le ROI",
   "id": "1a8822017e41497a"
  },
  {
   "metadata": {},
   "cell_type": "code",
   "outputs": [],
   "execution_count": null,
   "source": "",
   "id": "55046ba4050cfad8"
  }
 ],
 "metadata": {
  "kernelspec": {
   "display_name": "Python 3",
   "language": "python",
   "name": "python3"
  },
  "language_info": {
   "codemirror_mode": {
    "name": "ipython",
    "version": 2
   },
   "file_extension": ".py",
   "mimetype": "text/x-python",
   "name": "python",
   "nbconvert_exporter": "python",
   "pygments_lexer": "ipython2",
   "version": "2.7.6"
  }
 },
 "nbformat": 4,
 "nbformat_minor": 5
}
